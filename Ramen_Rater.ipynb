{
 "cells": [
  {
   "cell_type": "code",
   "execution_count": 31,
   "metadata": {
    "collapsed": true
   },
   "outputs": [],
   "source": [
    "import pandas as pd\n",
    "import numpy as np\n",
    "\n",
    "# For visualization\n",
    "import matplotlib.pyplot as plt\n",
    "import seaborn as sns\n",
    "sns.set_style('whitegrid')\n",
    "%matplotlib inline"
   ]
  },
  {
   "cell_type": "code",
   "execution_count": 32,
   "metadata": {
    "collapsed": false
   },
   "outputs": [],
   "source": [
    "# Reading Data\n",
    "Ramen = pd.read_csv('ramen_rater.csv')"
   ]
  },
  {
   "cell_type": "code",
   "execution_count": 33,
   "metadata": {
    "collapsed": false
   },
   "outputs": [
    {
     "data": {
      "text/html": [
       "<div>\n",
       "<table border=\"1\" class=\"dataframe\">\n",
       "  <thead>\n",
       "    <tr style=\"text-align: right;\">\n",
       "      <th></th>\n",
       "      <th>Review #</th>\n",
       "      <th>Brand</th>\n",
       "      <th>Variety</th>\n",
       "      <th>Style</th>\n",
       "      <th>Country</th>\n",
       "      <th>Stars</th>\n",
       "    </tr>\n",
       "  </thead>\n",
       "  <tbody>\n",
       "    <tr>\n",
       "      <th>0</th>\n",
       "      <td>2323</td>\n",
       "      <td>Ogasawara</td>\n",
       "      <td>Kirin Giraffe Shio Ramen</td>\n",
       "      <td>Pack</td>\n",
       "      <td>Japan</td>\n",
       "      <td>5.0</td>\n",
       "    </tr>\n",
       "    <tr>\n",
       "      <th>1</th>\n",
       "      <td>2322</td>\n",
       "      <td>Sapporo Ichiban</td>\n",
       "      <td>Mie Kamayama Ramen Gyukotsu Misoaji</td>\n",
       "      <td>Bowl</td>\n",
       "      <td>Japan</td>\n",
       "      <td>2.5</td>\n",
       "    </tr>\n",
       "    <tr>\n",
       "      <th>2</th>\n",
       "      <td>2321</td>\n",
       "      <td>Sau Tao</td>\n",
       "      <td>Black Pepper XO Sauce Flavour</td>\n",
       "      <td>Bowl</td>\n",
       "      <td>Hong Kong</td>\n",
       "      <td>5.0</td>\n",
       "    </tr>\n",
       "    <tr>\n",
       "      <th>3</th>\n",
       "      <td>2320</td>\n",
       "      <td>Nissin</td>\n",
       "      <td>Nupasta Bolognese Flavour Instant Noodle</td>\n",
       "      <td>Cup</td>\n",
       "      <td>Japan</td>\n",
       "      <td>4.0</td>\n",
       "    </tr>\n",
       "    <tr>\n",
       "      <th>4</th>\n",
       "      <td>2319</td>\n",
       "      <td>Nongshim</td>\n",
       "      <td>Saeutang Sabalmyeon</td>\n",
       "      <td>Bowl</td>\n",
       "      <td>South Korea</td>\n",
       "      <td>3.5</td>\n",
       "    </tr>\n",
       "  </tbody>\n",
       "</table>\n",
       "</div>"
      ],
      "text/plain": [
       "   Review #            Brand                                   Variety Style  \\\n",
       "0      2323        Ogasawara                  Kirin Giraffe Shio Ramen  Pack   \n",
       "1      2322  Sapporo Ichiban       Mie Kamayama Ramen Gyukotsu Misoaji  Bowl   \n",
       "2      2321          Sau Tao             Black Pepper XO Sauce Flavour  Bowl   \n",
       "3      2320           Nissin  Nupasta Bolognese Flavour Instant Noodle   Cup   \n",
       "4      2319         Nongshim                       Saeutang Sabalmyeon  Bowl   \n",
       "\n",
       "       Country  Stars  \n",
       "0        Japan    5.0  \n",
       "1        Japan    2.5  \n",
       "2    Hong Kong    5.0  \n",
       "3        Japan    4.0  \n",
       "4  South Korea    3.5  "
      ]
     },
     "execution_count": 33,
     "metadata": {},
     "output_type": "execute_result"
    }
   ],
   "source": [
    "Ramen.head()"
   ]
  },
  {
   "cell_type": "code",
   "execution_count": 34,
   "metadata": {
    "collapsed": false
   },
   "outputs": [
    {
     "data": {
      "text/plain": [
       "Japan            314\n",
       "USA              299\n",
       "South Korea      272\n",
       "Taiwan           202\n",
       "Thailand         188\n",
       "China            152\n",
       "Malaysia         148\n",
       "Indonesia        119\n",
       "Hong Kong        118\n",
       "Vietnam          104\n",
       "Singapore         78\n",
       "UK                69\n",
       "Philippines       47\n",
       "Canada            41\n",
       "India             22\n",
       "Australia         21\n",
       "Netherlands       15\n",
       "Nepal             14\n",
       "Myanmar           14\n",
       "Germany           13\n",
       "Mexico             9\n",
       "Pakistan           8\n",
       "Hungary            8\n",
       "Colombia           6\n",
       "Bangladesh         6\n",
       "Cambodia           5\n",
       "Brazil             5\n",
       "Holland            4\n",
       "Poland             4\n",
       "Sarawak            3\n",
       "Dubai              3\n",
       "Sweden             3\n",
       "Finland            3\n",
       "Estonia            2\n",
       "Fiji               2\n",
       "United States      1\n",
       "Name: Country, dtype: int64"
      ]
     },
     "execution_count": 34,
     "metadata": {},
     "output_type": "execute_result"
    }
   ],
   "source": [
    "#Finding the Ramen reviewed from different countries and found same values\n",
    "Ramen['Country'].value_counts()"
   ]
  },
  {
   "cell_type": "code",
   "execution_count": 35,
   "metadata": {
    "collapsed": false
   },
   "outputs": [],
   "source": [
    "# Found and replaced values that overlapped\n",
    "\n",
    "Ramen['Country'].replace(\n",
    "    to_replace='United States',\n",
    "    value='USA',\n",
    "    inplace=True\n",
    ")\n",
    "\n",
    "Ramen['Country'].replace(\n",
    "    to_replace='Sarawak',\n",
    "    value='Malaysia',\n",
    "    inplace=True\n",
    ")\n",
    "\n",
    "Ramen['Country'].replace(\n",
    "    to_replace='Holland',\n",
    "    value='Netherlands',\n",
    "    inplace=True\n",
    ")"
   ]
  },
  {
   "cell_type": "code",
   "execution_count": 36,
   "metadata": {
    "collapsed": false
   },
   "outputs": [
    {
     "data": {
      "text/plain": [
       "Japan          314\n",
       "USA            300\n",
       "South Korea    272\n",
       "Taiwan         202\n",
       "Thailand       188\n",
       "China          152\n",
       "Malaysia       151\n",
       "Indonesia      119\n",
       "Hong Kong      118\n",
       "Vietnam        104\n",
       "Singapore       78\n",
       "UK              69\n",
       "Philippines     47\n",
       "Canada          41\n",
       "India           22\n",
       "Australia       21\n",
       "Netherlands     19\n",
       "Nepal           14\n",
       "Myanmar         14\n",
       "Germany         13\n",
       "Mexico           9\n",
       "Pakistan         8\n",
       "Hungary          8\n",
       "Bangladesh       6\n",
       "Colombia         6\n",
       "Brazil           5\n",
       "Cambodia         5\n",
       "Poland           4\n",
       "Dubai            3\n",
       "Sweden           3\n",
       "Finland          3\n",
       "Estonia          2\n",
       "Fiji             2\n",
       "Name: Country, dtype: int64"
      ]
     },
     "execution_count": 36,
     "metadata": {},
     "output_type": "execute_result"
    }
   ],
   "source": [
    "#Checking the number of products reviewed by Country\n",
    "Ramen['Country'].value_counts()"
   ]
  },
  {
   "cell_type": "code",
   "execution_count": 37,
   "metadata": {
    "collapsed": false
   },
   "outputs": [
    {
     "data": {
      "text/plain": [
       "Nissin                  309\n",
       "Nongshim                 92\n",
       "Maruchan                 74\n",
       "Mama                     71\n",
       "Paldo                    62\n",
       "Myojo                    61\n",
       "Indomie                  50\n",
       "Ottogi                   42\n",
       "Lucky Me!                34\n",
       "Vina Acecook             34\n",
       "Samyang Foods            33\n",
       "Vifon                    32\n",
       "Mamee                    29\n",
       "MAMA                     27\n",
       "Master Kong              26\n",
       "A-Sha Dry Noodle         26\n",
       "Maggi                    26\n",
       "Sapporo Ichiban          25\n",
       "Wai Wai                  24\n",
       "JML                      23\n",
       "Ve Wong                  22\n",
       "Samyang                  19\n",
       "Koka                     18\n",
       "Doll                     16\n",
       "Batchelors               16\n",
       "MyKuali                  16\n",
       "Mr. Noodles              15\n",
       "Kamfen                   14\n",
       "Takamori Kosan           14\n",
       "Asian Thai Foods         14\n",
       "                       ... \n",
       "Nagatanien                1\n",
       "S&S                       1\n",
       "Dongwon                   1\n",
       "Kumamoto                  1\n",
       "Econsave                  1\n",
       "Westbrae                  1\n",
       "Cap Atoom Bulan           1\n",
       "Zow Zow                   1\n",
       "La Moderna                1\n",
       "Sanrio                    1\n",
       "Katoz                     1\n",
       "KOKA                      1\n",
       "Migawon                   1\n",
       "Yamadai                   1\n",
       "Ogasawara                 1\n",
       "Komforte Chockolates      1\n",
       "Mitoku                    1\n",
       "China Best                1\n",
       "Papa                      1\n",
       "Nan Hsing                 1\n",
       "Song Hak                  1\n",
       "Osaka Ramen               1\n",
       "Kim Ve Wong               1\n",
       "Chorip Dong               1\n",
       "One Dish Asia             1\n",
       "Chaudhary's Wai Wai       1\n",
       "ChoripDong                1\n",
       "Sunlight                  1\n",
       "The Bridge                1\n",
       "Lishan                    1\n",
       "Name: Brand, dtype: int64"
      ]
     },
     "execution_count": 37,
     "metadata": {},
     "output_type": "execute_result"
    }
   ],
   "source": [
    "#Checking the amount of products reviewed by brand\n",
    "Ramen['Brand'].value_counts()"
   ]
  },
  {
   "cell_type": "code",
   "execution_count": 38,
   "metadata": {
    "collapsed": false
   },
   "outputs": [],
   "source": [
    "# Creating a new column which will correspond to countries in the dataframe.\n",
    "\n",
    "Asia = ['Japan','South Korea','Taiwan','Thailand','China','Malaysia','Indonesia','Hong Kong','Vietnam','Singapore','Philippines','India','Myanmar','Nepal','Pakistan','Bangladesh','Cambodia','Dubai']\n",
    "\n",
    "Europe = ['UK','Netherlands','Germany','Hungary','Sweden','Finland','Estonia','Poland']\n",
    "\n",
    "Americas = ['USA','Canada','Mexico','Colombia','Brazil']\n",
    "\n",
    "Oceania = ['Australia','Fiji']"
   ]
  },
  {
   "cell_type": "code",
   "execution_count": 39,
   "metadata": {
    "collapsed": false
   },
   "outputs": [],
   "source": [
    "# Function which will fill in the continents\n",
    "\n",
    "def continent_filter(Country):\n",
    "    if Country in Asia:\n",
    "        return 'Asia'\n",
    "    elif Country in Europe:\n",
    "        return 'Europe'\n",
    "    elif Country in Americas:\n",
    "        return 'Americas'\n",
    "    else:\n",
    "        return 'Oceania'"
   ]
  },
  {
   "cell_type": "code",
   "execution_count": 40,
   "metadata": {
    "collapsed": false
   },
   "outputs": [
    {
     "data": {
      "text/plain": [
       "'Asia'"
      ]
     },
     "execution_count": 40,
     "metadata": {},
     "output_type": "execute_result"
    }
   ],
   "source": [
    "# Checking to see if it works\n",
    "continent_filter('Japan')"
   ]
  },
  {
   "cell_type": "code",
   "execution_count": 41,
   "metadata": {
    "collapsed": false
   },
   "outputs": [
    {
     "data": {
      "text/plain": [
       "'Oceania'"
      ]
     },
     "execution_count": 41,
     "metadata": {},
     "output_type": "execute_result"
    }
   ],
   "source": [
    "continent_filter('Fiji')"
   ]
  },
  {
   "cell_type": "code",
   "execution_count": 42,
   "metadata": {
    "collapsed": true
   },
   "outputs": [],
   "source": [
    "# Applying the function\n",
    "Ramen['Continent'] = Ramen['Country'].apply(continent_filter)"
   ]
  },
  {
   "cell_type": "code",
   "execution_count": 43,
   "metadata": {
    "collapsed": false,
    "scrolled": true
   },
   "outputs": [
    {
     "data": {
      "text/html": [
       "<div>\n",
       "<table border=\"1\" class=\"dataframe\">\n",
       "  <thead>\n",
       "    <tr style=\"text-align: right;\">\n",
       "      <th></th>\n",
       "      <th>Review #</th>\n",
       "      <th>Brand</th>\n",
       "      <th>Variety</th>\n",
       "      <th>Style</th>\n",
       "      <th>Country</th>\n",
       "      <th>Stars</th>\n",
       "      <th>Continent</th>\n",
       "    </tr>\n",
       "  </thead>\n",
       "  <tbody>\n",
       "    <tr>\n",
       "      <th>0</th>\n",
       "      <td>2323</td>\n",
       "      <td>Ogasawara</td>\n",
       "      <td>Kirin Giraffe Shio Ramen</td>\n",
       "      <td>Pack</td>\n",
       "      <td>Japan</td>\n",
       "      <td>5.0</td>\n",
       "      <td>Asia</td>\n",
       "    </tr>\n",
       "    <tr>\n",
       "      <th>1</th>\n",
       "      <td>2322</td>\n",
       "      <td>Sapporo Ichiban</td>\n",
       "      <td>Mie Kamayama Ramen Gyukotsu Misoaji</td>\n",
       "      <td>Bowl</td>\n",
       "      <td>Japan</td>\n",
       "      <td>2.5</td>\n",
       "      <td>Asia</td>\n",
       "    </tr>\n",
       "    <tr>\n",
       "      <th>2</th>\n",
       "      <td>2321</td>\n",
       "      <td>Sau Tao</td>\n",
       "      <td>Black Pepper XO Sauce Flavour</td>\n",
       "      <td>Bowl</td>\n",
       "      <td>Hong Kong</td>\n",
       "      <td>5.0</td>\n",
       "      <td>Asia</td>\n",
       "    </tr>\n",
       "    <tr>\n",
       "      <th>3</th>\n",
       "      <td>2320</td>\n",
       "      <td>Nissin</td>\n",
       "      <td>Nupasta Bolognese Flavour Instant Noodle</td>\n",
       "      <td>Cup</td>\n",
       "      <td>Japan</td>\n",
       "      <td>4.0</td>\n",
       "      <td>Asia</td>\n",
       "    </tr>\n",
       "    <tr>\n",
       "      <th>4</th>\n",
       "      <td>2319</td>\n",
       "      <td>Nongshim</td>\n",
       "      <td>Saeutang Sabalmyeon</td>\n",
       "      <td>Bowl</td>\n",
       "      <td>South Korea</td>\n",
       "      <td>3.5</td>\n",
       "      <td>Asia</td>\n",
       "    </tr>\n",
       "  </tbody>\n",
       "</table>\n",
       "</div>"
      ],
      "text/plain": [
       "   Review #            Brand                                   Variety Style  \\\n",
       "0      2323        Ogasawara                  Kirin Giraffe Shio Ramen  Pack   \n",
       "1      2322  Sapporo Ichiban       Mie Kamayama Ramen Gyukotsu Misoaji  Bowl   \n",
       "2      2321          Sau Tao             Black Pepper XO Sauce Flavour  Bowl   \n",
       "3      2320           Nissin  Nupasta Bolognese Flavour Instant Noodle   Cup   \n",
       "4      2319         Nongshim                       Saeutang Sabalmyeon  Bowl   \n",
       "\n",
       "       Country  Stars Continent  \n",
       "0        Japan    5.0      Asia  \n",
       "1        Japan    2.5      Asia  \n",
       "2    Hong Kong    5.0      Asia  \n",
       "3        Japan    4.0      Asia  \n",
       "4  South Korea    3.5      Asia  "
      ]
     },
     "execution_count": 43,
     "metadata": {},
     "output_type": "execute_result"
    }
   ],
   "source": [
    "Ramen.head()"
   ]
  },
  {
   "cell_type": "code",
   "execution_count": 44,
   "metadata": {
    "collapsed": false
   },
   "outputs": [
    {
     "data": {
      "text/plain": [
       "Asia        1817\n",
       "Americas     361\n",
       "Europe       121\n",
       "Oceania       23\n",
       "Name: Continent, dtype: int64"
      ]
     },
     "execution_count": 44,
     "metadata": {},
     "output_type": "execute_result"
    }
   ],
   "source": [
    "# Number of products reviewed by Continent\n",
    "Ramen['Continent'].value_counts()"
   ]
  },
  {
   "cell_type": "code",
   "execution_count": 35,
   "metadata": {
    "collapsed": true
   },
   "outputs": [],
   "source": [
    "import pandas as pd\n",
    "import numpy as np\n",
    "import plotly.plotly as py\n",
    "import plotly.graph_objs as go"
   ]
  },
  {
   "cell_type": "code",
   "execution_count": 36,
   "metadata": {
    "collapsed": false
   },
   "outputs": [
    {
     "data": {
      "text/html": [
       "<iframe id=\"igraph\" scrolling=\"no\" style=\"border:none;\" seamless=\"seamless\" src=\"https://plot.ly/~mr7007/67.embed\" height=\"525px\" width=\"100%\"></iframe>"
      ],
      "text/plain": [
       "<plotly.tools.PlotlyDisplay object>"
      ]
     },
     "execution_count": 36,
     "metadata": {},
     "output_type": "execute_result"
    }
   ],
   "source": [
    "fig = {\n",
    "  \"data\": [\n",
    "    {\n",
    "      \"values\": [1817,361,121,23],\n",
    "      \"labels\": [\n",
    "        \"Asia\",\n",
    "        \"Americas\",\n",
    "        \"Europe\",\n",
    "        \"Oceania\",\n",
    "      ],\n",
    "      \"text\":\"Continent\",\n",
    "      \"textposition\":\"inside\",\n",
    "      \"domain\": {\"x\": [0, .48]},\n",
    "      \"hoverinfo\":\"label+percent\",\n",
    "      \"hole\": .4,\n",
    "      \"type\": \"pie\"\n",
    "    },     \n",
    "    {\n",
    "      \"values\": [314,300,272,202,188,152,151,119,118,104,402],\n",
    "      \"labels\": [\n",
    "        \"Japan\",\n",
    "        \"USA\",\n",
    "        \"South Korea\",\n",
    "        \"Taiwan\",\n",
    "        \"Thailand\",\n",
    "        \"China\",\n",
    "        \"Malaysia\",\n",
    "        \"Indonesia\",\n",
    "        \"Hong Kong\",\n",
    "        \"Vietnam\",\n",
    "        \"Rest of world\",\n",
    "      ],\n",
    "      \"text\":\"Country\",\n",
    "      \"textposition\":\"inside\",\n",
    "      \"domain\": {\"x\": [.49, 1]},\n",
    "      \"hoverinfo\":\"label+percent\",\n",
    "      \"hole\": .4,\n",
    "      \"type\": \"pie\"\n",
    "    }],\n",
    "  \"layout\": {\n",
    "        \"title\":\"Ramen Reviewed\",\n",
    "        \"annotations\": [\n",
    "            {\n",
    "                \"font\": {\n",
    "                    \"size\": 20\n",
    "                },\n",
    "                \"showarrow\": False,\n",
    "                \"text\": \"Continent\",\n",
    "                \"x\": 0.18,\n",
    "                \"y\": 0.5\n",
    "            },\n",
    "            {\n",
    "                \"font\": {\n",
    "                    \"size\": 20\n",
    "                },\n",
    "                \"showarrow\": False,\n",
    "                \"text\": \"Country\",\n",
    "                \"x\": .8,\n",
    "                \"y\": 0.5\n",
    "            }\n",
    "        ]\n",
    "    }\n",
    "}\n",
    "py.iplot(fig)"
   ]
  },
  {
   "cell_type": "code",
   "execution_count": 17,
   "metadata": {
    "collapsed": false
   },
   "outputs": [
    {
     "data": {
      "image/png": "[encoded data removed]",
      "text/plain": [
       "<matplotlib.figure.Figure at 0x2d49470>"
      ]
     },
     "metadata": {},
     "output_type": "display_data"
    }
   ],
   "source": [
    "plt.rcParams['figure.figsize']=15,5\n",
    "ax = sns.countplot(x=\"Stars\", data=Ramen)"
   ]
  },
  {
   "cell_type": "code",
   "execution_count": 45,
   "metadata": {
    "collapsed": false,
    "scrolled": true
   },
   "outputs": [
    {
     "data": {
      "text/plain": [
       "<matplotlib.axes._subplots.AxesSubplot at 0xccfe9b0>"
      ]
     },
     "execution_count": 45,
     "metadata": {},
     "output_type": "execute_result"
    },
    {
     "data": {
      "image/png": "[encoded data removed]",
      "text/plain": [
       "<matplotlib.figure.Figure at 0xc94db38>"
      ]
     },
     "metadata": {},
     "output_type": "display_data"
    }
   ],
   "source": [
    "# Plotting the ratings by Style\n",
    "\n",
    "sns.boxplot(x=\"Style\", y=\"Stars\", data=Ramen)"
   ]
  },
  {
   "cell_type": "code",
   "execution_count": 46,
   "metadata": {
    "collapsed": false,
    "scrolled": true
   },
   "outputs": [
    {
     "data": {
      "text/plain": [
       "<matplotlib.axes._subplots.AxesSubplot at 0xea07e48>"
      ]
     },
     "execution_count": 46,
     "metadata": {},
     "output_type": "execute_result"
    },
    {
     "data": {
      "image/png": "[encoded data removed]",
      "text/plain": [
       "<matplotlib.figure.Figure at 0xc915eb8>"
      ]
     },
     "metadata": {},
     "output_type": "display_data"
    }
   ],
   "source": [
    "#Plotting the Ratings by Continent\n",
    "sns.boxplot(x=\"Continent\", y=\"Stars\", data=Ramen)"
   ]
  },
  {
   "cell_type": "code",
   "execution_count": 47,
   "metadata": {
    "collapsed": false
   },
   "outputs": [],
   "source": [
    "# Created a dataframe for each Continent in order to create\n",
    "# a boxplot to see which countries had the best rating in each Continent.\n",
    "r_asia =(Ramen['Continent'] == 'Asia')\n",
    "rasia = Ramen[r_asia]\n",
    "\n",
    "r_europe =(Ramen['Continent'] == 'Europe')\n",
    "reurope = Ramen[r_europe]\n",
    "\n",
    "r_americas =(Ramen['Continent'] == 'Americas')\n",
    "ramericas = Ramen[r_americas]\n",
    "\n",
    "r_oceania =(Ramen['Continent'] == 'Oceania')\n",
    "roceania = Ramen[r_oceania]"
   ]
  },
  {
   "cell_type": "code",
   "execution_count": 48,
   "metadata": {
    "collapsed": false
   },
   "outputs": [
    {
     "data": {
      "text/html": [
       "<div>\n",
       "<table border=\"1\" class=\"dataframe\">\n",
       "  <thead>\n",
       "    <tr style=\"text-align: right;\">\n",
       "      <th></th>\n",
       "      <th>Review #</th>\n",
       "      <th>Brand</th>\n",
       "      <th>Variety</th>\n",
       "      <th>Style</th>\n",
       "      <th>Country</th>\n",
       "      <th>Stars</th>\n",
       "      <th>Continent</th>\n",
       "    </tr>\n",
       "  </thead>\n",
       "  <tbody>\n",
       "    <tr>\n",
       "      <th>0</th>\n",
       "      <td>2323</td>\n",
       "      <td>Ogasawara</td>\n",
       "      <td>Kirin Giraffe Shio Ramen</td>\n",
       "      <td>Pack</td>\n",
       "      <td>Japan</td>\n",
       "      <td>5.0</td>\n",
       "      <td>Asia</td>\n",
       "    </tr>\n",
       "    <tr>\n",
       "      <th>1</th>\n",
       "      <td>2322</td>\n",
       "      <td>Sapporo Ichiban</td>\n",
       "      <td>Mie Kamayama Ramen Gyukotsu Misoaji</td>\n",
       "      <td>Bowl</td>\n",
       "      <td>Japan</td>\n",
       "      <td>2.5</td>\n",
       "      <td>Asia</td>\n",
       "    </tr>\n",
       "    <tr>\n",
       "      <th>2</th>\n",
       "      <td>2321</td>\n",
       "      <td>Sau Tao</td>\n",
       "      <td>Black Pepper XO Sauce Flavour</td>\n",
       "      <td>Bowl</td>\n",
       "      <td>Hong Kong</td>\n",
       "      <td>5.0</td>\n",
       "      <td>Asia</td>\n",
       "    </tr>\n",
       "    <tr>\n",
       "      <th>3</th>\n",
       "      <td>2320</td>\n",
       "      <td>Nissin</td>\n",
       "      <td>Nupasta Bolognese Flavour Instant Noodle</td>\n",
       "      <td>Cup</td>\n",
       "      <td>Japan</td>\n",
       "      <td>4.0</td>\n",
       "      <td>Asia</td>\n",
       "    </tr>\n",
       "    <tr>\n",
       "      <th>4</th>\n",
       "      <td>2319</td>\n",
       "      <td>Nongshim</td>\n",
       "      <td>Saeutang Sabalmyeon</td>\n",
       "      <td>Bowl</td>\n",
       "      <td>South Korea</td>\n",
       "      <td>3.5</td>\n",
       "      <td>Asia</td>\n",
       "    </tr>\n",
       "  </tbody>\n",
       "</table>\n",
       "</div>"
      ],
      "text/plain": [
       "   Review #            Brand                                   Variety Style  \\\n",
       "0      2323        Ogasawara                  Kirin Giraffe Shio Ramen  Pack   \n",
       "1      2322  Sapporo Ichiban       Mie Kamayama Ramen Gyukotsu Misoaji  Bowl   \n",
       "2      2321          Sau Tao             Black Pepper XO Sauce Flavour  Bowl   \n",
       "3      2320           Nissin  Nupasta Bolognese Flavour Instant Noodle   Cup   \n",
       "4      2319         Nongshim                       Saeutang Sabalmyeon  Bowl   \n",
       "\n",
       "       Country  Stars Continent  \n",
       "0        Japan    5.0      Asia  \n",
       "1        Japan    2.5      Asia  \n",
       "2    Hong Kong    5.0      Asia  \n",
       "3        Japan    4.0      Asia  \n",
       "4  South Korea    3.5      Asia  "
      ]
     },
     "execution_count": 48,
     "metadata": {},
     "output_type": "execute_result"
    }
   ],
   "source": [
    "rasia.head()"
   ]
  },
  {
   "cell_type": "code",
   "execution_count": 49,
   "metadata": {
    "collapsed": false
   },
   "outputs": [
    {
     "data": {
      "text/plain": [
       "<matplotlib.axes._subplots.AxesSubplot at 0xcbcf080>"
      ]
     },
     "execution_count": 49,
     "metadata": {},
     "output_type": "execute_result"
    },
    {
     "data": {
      "image/png": "[encoded data removed]",
      "text/plain": [
       "<matplotlib.figure.Figure at 0xec03160>"
      ]
     },
     "metadata": {},
     "output_type": "display_data"
    }
   ],
   "source": [
    "# Europe BoxPlot\n",
    "plt.rcParams['figure.figsize']=15,5\n",
    "sns.boxplot(x=\"Country\", y=\"Stars\", data=reurope)"
   ]
  },
  {
   "cell_type": "code",
   "execution_count": 50,
   "metadata": {
    "collapsed": false
   },
   "outputs": [
    {
     "data": {
      "text/plain": [
       "<matplotlib.axes._subplots.AxesSubplot at 0xe85c320>"
      ]
     },
     "execution_count": 50,
     "metadata": {},
     "output_type": "execute_result"
    },
    {
     "data": {
      "image/png": "[encoded data removed]",
      "text/plain": [
       "<matplotlib.figure.Figure at 0xc941240>"
      ]
     },
     "metadata": {},
     "output_type": "display_data"
    }
   ],
   "source": [
    "#Asia BoxPlot\n",
    "\n",
    "plt.rcParams['figure.figsize']=20,5\n",
    "sns.boxplot(x=\"Country\", y=\"Stars\", data=rasia)"
   ]
  },
  {
   "cell_type": "code",
   "execution_count": 51,
   "metadata": {
    "collapsed": false
   },
   "outputs": [
    {
     "data": {
      "text/plain": [
       "<matplotlib.axes._subplots.AxesSubplot at 0xef904e0>"
      ]
     },
     "execution_count": 51,
     "metadata": {},
     "output_type": "execute_result"
    },
    {
     "data": {
      "image/png": "[encoded data removed]",
      "text/plain": [
       "<matplotlib.figure.Figure at 0xef9f518>"
      ]
     },
     "metadata": {},
     "output_type": "display_data"
    }
   ],
   "source": [
    "#Americas BoxPlot\n",
    "sns.boxplot(x=\"Country\", y=\"Stars\", data=ramericas)"
   ]
  },
  {
   "cell_type": "code",
   "execution_count": 52,
   "metadata": {
    "collapsed": false
   },
   "outputs": [
    {
     "data": {
      "text/plain": [
       "<matplotlib.axes._subplots.AxesSubplot at 0xeffb358>"
      ]
     },
     "execution_count": 52,
     "metadata": {},
     "output_type": "execute_result"
    },
    {
     "data": {
      "image/png": "[encoded data removed]",
      "text/plain": [
       "<matplotlib.figure.Figure at 0xeffb3c8>"
      ]
     },
     "metadata": {},
     "output_type": "display_data"
    }
   ],
   "source": [
    "#Oceana Boxplot\n",
    "plt.rcParams['figure.figsize']=5,5\n",
    "sns.boxplot(x=\"Country\", y=\"Stars\", data=roceania)"
   ]
  },
  {
   "cell_type": "code",
   "execution_count": 53,
   "metadata": {
    "collapsed": false
   },
   "outputs": [
    {
     "data": {
      "text/plain": [
       "Nissin          309\n",
       "Nongshim         92\n",
       "Maruchan         74\n",
       "Mama             71\n",
       "Paldo            62\n",
       "Myojo            61\n",
       "Indomie          50\n",
       "Ottogi           42\n",
       "Lucky Me!        34\n",
       "Vina Acecook     34\n",
       "Name: Brand, dtype: int64"
      ]
     },
     "execution_count": 53,
     "metadata": {},
     "output_type": "execute_result"
    }
   ],
   "source": [
    "# Looking at Top Ten brands reviewed\n",
    "Ramen['Brand'].value_counts()[:10]"
   ]
  },
  {
   "cell_type": "code",
   "execution_count": 54,
   "metadata": {
    "collapsed": false
   },
   "outputs": [],
   "source": [
    "# Creating a Dataframe for the top ten.\n",
    "\n",
    "rbrands = Ramen.loc[(Ramen['Brand'] == 'Nissin') | (Ramen['Brand'] == 'Nongshim') | (Ramen['Brand'] == 'Maruchan') | (Ramen['Brand'] == 'Mama')\n",
    "                    | (Ramen['Brand'] == 'Paldo')| (Ramen['Brand'] == 'Myojo')| (Ramen['Brand'] == 'Indomie') | (Ramen['Brand'] == 'Ottogi') \n",
    "                      | (Ramen['Brand'] == 'Lucky Me!') | (Ramen['Brand'] == 'Vina Acecook') ]"
   ]
  },
  {
   "cell_type": "code",
   "execution_count": 55,
   "metadata": {
    "collapsed": false
   },
   "outputs": [
    {
     "data": {
      "text/plain": [
       "<matplotlib.axes._subplots.AxesSubplot at 0xe57d860>"
      ]
     },
     "execution_count": 55,
     "metadata": {},
     "output_type": "execute_result"
    },
    {
     "data": {
      "image/png": "[encoded data removed]",
      "text/plain": [
       "<matplotlib.figure.Figure at 0xe593e10>"
      ]
     },
     "metadata": {},
     "output_type": "display_data"
    }
   ],
   "source": [
    "# Boxplot for the top ten most reviewed brands.\n",
    "\n",
    "plt.rcParams['figure.figsize']=15,5\n",
    "sns.boxplot(x=\"Brand\", y=\"Stars\", data=rbrands)"
   ]
  },
  {
   "cell_type": "code",
   "execution_count": 56,
   "metadata": {
    "collapsed": false
   },
   "outputs": [
    {
     "name": "stdout",
     "output_type": "stream",
     "text": [
      "                         mean  count\n",
      "Brand                               \n",
      "7 Select             3.625000      2\n",
      "7 Select/Nissin      3.500000      1\n",
      "A-One                2.750000      4\n",
      "A-Sha Dry Noodle     4.076923     26\n",
      "A1                   3.083333      3\n",
      "ABC                  4.208333     12\n",
      "Acecook              3.125000     10\n",
      "Adabi                3.812500      4\n",
      "Ah Lai               4.750000      2\n",
      "Ajinatori            3.500000      1\n",
      "Amianda              3.950000     10\n",
      "Amino                3.500000      3\n",
      "Annie Chun's         3.479167     12\n",
      "Aroi                 4.500000      2\n",
      "Asia Gold            3.437500      4\n",
      "Asian Thai Foods     3.517857     14\n",
      "Authentically Asian  1.000000      1\n",
      "Azami                1.950000      5\n",
      "Baijia               1.250000     11\n",
      "Baixiang Noodles     3.700000      5\n",
      "Baltix               3.500000      2\n",
      "Bamee                3.300000      5\n",
      "Batchelors           2.921875     16\n",
      "Binh Tay             3.125000      2\n",
      "Bon Go Jang          3.375000      2\n",
      "Bonasia              3.500000      4\n",
      "Boss                 2.500000      1\n",
      "CJ CheilJedang       2.875000      2\n",
      "Campbell's           1.000000      3\n",
      "Cap Atoom Bulan      3.000000      1\n",
      "...                       ...    ...\n",
      "Unif-100             3.875000      2\n",
      "United               2.916667      3\n",
      "Unox                 3.375000      6\n",
      "Unzen                1.000000      1\n",
      "Urban Noodle         2.500000      5\n",
      "Ve Wong              3.086364     22\n",
      "Vedan                2.416667      6\n",
      "Vifon                2.993750     32\n",
      "Vina Acecook         3.536765     34\n",
      "Vit's                4.211538     13\n",
      "Wai Wai              2.952083     24\n",
      "Wang                 3.950000      5\n",
      "Weh Lih              1.000000      1\n",
      "Wei Chuan            3.625000      2\n",
      "Wei Lih              3.519231     13\n",
      "Wei Wei              3.416667      3\n",
      "Westbrae             0.500000      1\n",
      "Western Family       1.708333      6\n",
      "Wu Mu                3.642857      7\n",
      "Wu-Mu                3.770833     12\n",
      "Wugudaochang         4.125000     10\n",
      "Xiao Ban Mian        4.083333      3\n",
      "Yamachan             4.437500      8\n",
      "Yamadai              3.250000      1\n",
      "Yamamori             4.625000      2\n",
      "Yamamoto             4.187500      4\n",
      "Yum Yum              3.750000     12\n",
      "Zow Zow              3.750000      1\n",
      "iMee                 3.500000      4\n",
      "iNoodle              3.000000      2\n",
      "\n",
      "[324 rows x 2 columns]\n"
     ]
    }
   ],
   "source": [
    "# Aggregating the mean rating and the review count.\n",
    "rmean1 = Ramen.groupby('Brand')['Stars'].agg(['mean', 'count'])\n",
    "print (rmean1)"
   ]
  },
  {
   "cell_type": "code",
   "execution_count": 57,
   "metadata": {
    "collapsed": false
   },
   "outputs": [
    {
     "name": "stdout",
     "output_type": "stream",
     "text": [
      "                          mean  count\n",
      "Brand                                \n",
      "Plats Du Chef         5.000000      1\n",
      "Nyor Nyar             5.000000      2\n",
      "Prima Taste           5.000000      7\n",
      "Prima                 5.000000      3\n",
      "The Bridge            5.000000      1\n",
      "ChoripDong            5.000000      1\n",
      "Torishi               5.000000      1\n",
      "Komforte Chockolates  5.000000      1\n",
      "MyOri                 5.000000      5\n",
      "Foodmon               5.000000      2\n",
      "Kimura                5.000000      1\n",
      "Song Hak              5.000000      1\n",
      "Daddy                 5.000000      1\n",
      "Ogasawara             5.000000      1\n",
      "ORee Garden           5.000000      1\n",
      "Peyang                5.000000      1\n",
      "Seven & I             5.000000      1\n",
      "Happy Cook            5.000000      1\n",
      "Higashi               5.000000      1\n",
      "CarJEN                4.928571      7\n",
      "MyKuali               4.921875     16\n",
      "Nanyang Chef          4.875000      2\n",
      "Tseng Noodles         4.821429      7\n",
      "Mom's Dry Noodle      4.800000      5\n",
      "Ah Lai                4.750000      2\n",
      "Yamamori              4.625000      2\n",
      "Salam Mie             4.625000      2\n",
      "Chikara               4.500000      1\n",
      "Sanyo Foods           4.500000      1\n",
      "The Kitchen Food      4.500000      2\n",
      "Dongwon               4.500000      1\n",
      "President             4.500000      1\n",
      "Seven-Eleven          4.500000      1\n",
      "Aroi                  4.500000      2\n",
      "Higashimaru           4.500000      1\n",
      "New Touch             4.500000      6\n",
      "Ishimaru              4.500000      1\n",
      "Sun Noodle            4.464286      7\n",
      "Yamachan              4.437500      8\n",
      "Daikoku               4.437500      4\n",
      "Uni-President         4.437500      4\n",
      "Kuriki                4.416667      3\n",
      "Tablemark             4.416667      3\n",
      "E-Zee                 4.375000      2\n",
      "Chering Chang         4.350000      5\n",
      "Golden Wonder         4.250000      1\n",
      "GS25                  4.250000      2\n",
      "Menraku               4.250000      8\n",
      "Nagao Noodle          4.250000      1\n",
      "Marutai               4.250000      6\n"
     ]
    }
   ],
   "source": [
    "#Sorting by the highest mean and picking the top 50\n",
    "print(rmean1.sort_values(by='mean',ascending=False))[:50]"
   ]
  },
  {
   "cell_type": "code",
   "execution_count": 58,
   "metadata": {
    "collapsed": false
   },
   "outputs": [],
   "source": [
    "# Reindex\n",
    "rr1= rmean1.sort_values(by='mean',ascending=False)\n",
    "rr1= rr1.reset_index()"
   ]
  },
  {
   "cell_type": "code",
   "execution_count": 59,
   "metadata": {
    "collapsed": false
   },
   "outputs": [
    {
     "data": {
      "text/html": [
       "<div>\n",
       "<table border=\"1\" class=\"dataframe\">\n",
       "  <thead>\n",
       "    <tr style=\"text-align: right;\">\n",
       "      <th></th>\n",
       "      <th>Brand</th>\n",
       "      <th>mean</th>\n",
       "      <th>count</th>\n",
       "    </tr>\n",
       "  </thead>\n",
       "  <tbody>\n",
       "    <tr>\n",
       "      <th>2</th>\n",
       "      <td>Prima Taste</td>\n",
       "      <td>5.000000</td>\n",
       "      <td>7</td>\n",
       "    </tr>\n",
       "    <tr>\n",
       "      <th>8</th>\n",
       "      <td>MyOri</td>\n",
       "      <td>5.000000</td>\n",
       "      <td>5</td>\n",
       "    </tr>\n",
       "    <tr>\n",
       "      <th>19</th>\n",
       "      <td>CarJEN</td>\n",
       "      <td>4.928571</td>\n",
       "      <td>7</td>\n",
       "    </tr>\n",
       "    <tr>\n",
       "      <th>20</th>\n",
       "      <td>MyKuali</td>\n",
       "      <td>4.921875</td>\n",
       "      <td>16</td>\n",
       "    </tr>\n",
       "    <tr>\n",
       "      <th>22</th>\n",
       "      <td>Tseng Noodles</td>\n",
       "      <td>4.821429</td>\n",
       "      <td>7</td>\n",
       "    </tr>\n",
       "    <tr>\n",
       "      <th>23</th>\n",
       "      <td>Mom's Dry Noodle</td>\n",
       "      <td>4.800000</td>\n",
       "      <td>5</td>\n",
       "    </tr>\n",
       "    <tr>\n",
       "      <th>35</th>\n",
       "      <td>New Touch</td>\n",
       "      <td>4.500000</td>\n",
       "      <td>6</td>\n",
       "    </tr>\n",
       "    <tr>\n",
       "      <th>37</th>\n",
       "      <td>Sun Noodle</td>\n",
       "      <td>4.464286</td>\n",
       "      <td>7</td>\n",
       "    </tr>\n",
       "    <tr>\n",
       "      <th>38</th>\n",
       "      <td>Yamachan</td>\n",
       "      <td>4.437500</td>\n",
       "      <td>8</td>\n",
       "    </tr>\n",
       "    <tr>\n",
       "      <th>39</th>\n",
       "      <td>Daikoku</td>\n",
       "      <td>4.437500</td>\n",
       "      <td>4</td>\n",
       "    </tr>\n",
       "  </tbody>\n",
       "</table>\n",
       "</div>"
      ],
      "text/plain": [
       "               Brand      mean  count\n",
       "2        Prima Taste  5.000000      7\n",
       "8              MyOri  5.000000      5\n",
       "19            CarJEN  4.928571      7\n",
       "20           MyKuali  4.921875     16\n",
       "22     Tseng Noodles  4.821429      7\n",
       "23  Mom's Dry Noodle  4.800000      5\n",
       "35         New Touch  4.500000      6\n",
       "37        Sun Noodle  4.464286      7\n",
       "38          Yamachan  4.437500      8\n",
       "39           Daikoku  4.437500      4"
      ]
     },
     "execution_count": 59,
     "metadata": {},
     "output_type": "execute_result"
    }
   ],
   "source": [
    "# Excluded Brands which had less than 3 reviews\n",
    "rr1.loc[rr1['count'] > 3, ['Brand','mean','count']][:10]"
   ]
  },
  {
   "cell_type": "code",
   "execution_count": null,
   "metadata": {
    "collapsed": true
   },
   "outputs": [],
   "source": []
  }
 ],
 "metadata": {
  "anaconda-cloud": {},
  "kernelspec": {
   "display_name": "Python [default]",
   "language": "python",
   "name": "python2"
  },
  "language_info": {
   "codemirror_mode": {
    "name": "ipython",
    "version": 2
   },
   "file_extension": ".py",
   "mimetype": "text/x-python",
   "name": "python",
   "nbconvert_exporter": "python",
   "pygments_lexer": "ipython2",
   "version": "2.7.13"
  }
 },
 "nbformat": 4,
 "nbformat_minor": 1
}
